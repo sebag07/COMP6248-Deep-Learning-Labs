{
  "nbformat": 4,
  "nbformat_minor": 0,
  "metadata": {
    "colab": {
      "name": "Copy of 4_4_GPU.ipynb",
      "version": "0.3.2",
      "provenance": [],
      "collapsed_sections": []
    },
    "kernelspec": {
      "name": "python3",
      "display_name": "Python 3"
    },
    "accelerator": "GPU"
  },
  "cells": [
    {
      "metadata": {
        "deletable": false,
        "editable": false,
        "nbgrader": {
          "checksum": "4972f311d33e889babafe6f6e44edc5f",
          "grade": false,
          "grade_id": "cell-8115527bd0e08e63",
          "locked": true,
          "schema_version": 1,
          "solution": false
        },
        "id": "kypXxENA1jeb",
        "colab_type": "text"
      },
      "cell_type": "markdown",
      "source": [
        "# Part 4: Using GPU acceleration with PyTorch"
      ]
    },
    {
      "metadata": {
        "deletable": false,
        "editable": false,
        "nbgrader": {
          "checksum": "8ef6029eb23fe884594de09e1cd97769",
          "grade": false,
          "grade_id": "cell-2e8abb75fa5d4222",
          "locked": true,
          "schema_version": 1,
          "solution": false
        },
        "id": "luCKkpvX1jeh",
        "colab_type": "code",
        "colab": {}
      },
      "cell_type": "code",
      "source": [
        "# Execute this code block to install dependencies when running on colab\n",
        "try:\n",
        "    import torch\n",
        "except:\n",
        "    from os.path import exists\n",
        "    from wheel.pep425tags import get_abbr_impl, get_impl_ver, get_abi_tag\n",
        "    platform = '{}{}-{}'.format(get_abbr_impl(), get_impl_ver(), get_abi_tag())\n",
        "    cuda_output = !ldconfig -p|grep cudart.so|sed -e 's/.*\\.\\([0-9]*\\)\\.\\([0-9]*\\)$/cu\\1\\2/'\n",
        "    accelerator = cuda_output[0] if exists('/dev/nvidia0') else 'cpu'\n",
        "\n",
        "    !pip install -q http://download.pytorch.org/whl/{accelerator}/torch-1.0.0-{platform}-linux_x86_64.whl torchvision\n",
        "\n",
        "try: \n",
        "    import torchbearer\n",
        "except:\n",
        "    !pip install torchbearer"
      ],
      "execution_count": 0,
      "outputs": []
    },
    {
      "metadata": {
        "deletable": false,
        "editable": false,
        "nbgrader": {
          "checksum": "5ad3d98e7a666f0550c48db3d40c9fb6",
          "grade": false,
          "grade_id": "cell-56a116e085aef83c",
          "locked": true,
          "schema_version": 1,
          "solution": false
        },
        "id": "nKYKDHjv1jeo",
        "colab_type": "text"
      },
      "cell_type": "markdown",
      "source": [
        "## Manual use of `.cuda()`\n",
        "\n",
        "Now the magic of PyTorch comes in. So far, we've only been using the CPU to do computation. When we want to scale to a bigger problem, that won't be feasible for very long.\n",
        "|\n",
        "PyTorch makes it really easy to use the GPU for accelerating computation. Consider the following code that computes the element-wise product of two large matrices:"
      ]
    },
    {
      "metadata": {
        "id": "nnjPs99u1jeq",
        "colab_type": "code",
        "outputId": "6ef668cf-c18c-4c28-883f-d3e87d669609",
        "colab": {
          "base_uri": "https://localhost:8080/",
          "height": 136
        }
      },
      "cell_type": "code",
      "source": [
        "import torch\n",
        "\n",
        "t1 = torch.randn(1000, 1000)\n",
        "t2 = torch.randn(1000, 1000)\n",
        "t3 = t1*t2\n",
        "print(t3)"
      ],
      "execution_count": 0,
      "outputs": [
        {
          "output_type": "stream",
          "text": [
            "tensor([[ 0.9414,  2.0151,  0.6757,  ...,  1.9189,  0.1562,  0.1325],\n",
            "        [ 0.3274, -0.6311, -1.2401,  ...,  0.5978, -0.4244,  0.0220],\n",
            "        [-0.8007, -0.1126, -0.0951,  ...,  0.0993,  0.5886,  0.2130],\n",
            "        ...,\n",
            "        [ 0.3461, -0.8226,  0.0394,  ..., -0.4308,  0.2861,  0.4572],\n",
            "        [-0.0247, -0.6191, -0.1831,  ..., -2.3207,  0.0465, -0.5108],\n",
            "        [-1.5556, -0.2022, -0.2424,  ...,  0.1038,  0.1627, -0.6700]])\n"
          ],
          "name": "stdout"
        }
      ]
    },
    {
      "metadata": {
        "deletable": false,
        "editable": false,
        "nbgrader": {
          "checksum": "6af792ab02ecca981f5c12685789f471",
          "grade": false,
          "grade_id": "cell-6849616c01cf9f25",
          "locked": true,
          "schema_version": 1,
          "solution": false
        },
        "id": "LD3VaeHL1jev",
        "colab_type": "text"
      },
      "cell_type": "markdown",
      "source": [
        "By sending all the tensors that we are using to the GPU, all the operations on them will also run on the GPU without having to change anything else. If you're running a non-cuda enabled version of PyTorch the following will throw an error; if you have cuda available the following will create the input matrices, copy them to the GPU and perform the multiplication on the GPU itself:"
      ]
    },
    {
      "metadata": {
        "id": "HWF9nDCW1jew",
        "colab_type": "code",
        "outputId": "c77f4892-5966-4a8f-d54c-fa74f093032d",
        "colab": {
          "base_uri": "https://localhost:8080/",
          "height": 153
        }
      },
      "cell_type": "code",
      "source": [
        "t1 = torch.randn(1000, 1000).cuda()\n",
        "t2 = torch.randn(1000, 1000).cuda()\n",
        "t3 = t1*t2\n",
        "print(t3)"
      ],
      "execution_count": 0,
      "outputs": [
        {
          "output_type": "stream",
          "text": [
            "tensor([[-0.2195,  1.3444, -0.1633,  ..., -0.1416, -0.2565, -0.0435],\n",
            "        [-1.6846, -0.0031,  1.4869,  ..., -0.2306, -0.0970, -0.6455],\n",
            "        [-1.0707, -0.5851,  1.0679,  ...,  0.9600, -2.6441, -0.2734],\n",
            "        ...,\n",
            "        [-0.0532,  0.0633,  2.2664,  ..., -0.0118, -0.6130,  0.1089],\n",
            "        [-0.1117,  0.2210, -0.6556,  ..., -0.2617, -0.4815,  0.3398],\n",
            "        [-1.3476,  0.1137, -0.9070,  ...,  0.5196,  0.4858, -0.5521]],\n",
            "       device='cuda:0')\n"
          ],
          "name": "stdout"
        }
      ]
    },
    {
      "metadata": {
        "deletable": false,
        "editable": false,
        "nbgrader": {
          "checksum": "c771877e9beb32f8a49585373534dad1",
          "grade": false,
          "grade_id": "cell-2bca345a3c01999c",
          "locked": true,
          "schema_version": 1,
          "solution": false
        },
        "id": "5p5tAu7h1je1",
        "colab_type": "text"
      },
      "cell_type": "markdown",
      "source": [
        "If you're running this workbook in colab, now enable GPU acceleration (`Runtime->Runtime Type` and add a `GPU` in the hardware accelerator pull-down). You'll then need to re-run all cells to this point.\n",
        "\n",
        "If you were able to run the above with hardware acceleration, the print-out of the result tensor would show that it was an instance of `cuda.FloatTensor` type on the the `(GPU 0)` GPU device. If your wanted to copy the tensor back to the CPU, you would use the `.cpu()` method."
      ]
    },
    {
      "metadata": {
        "deletable": false,
        "editable": false,
        "nbgrader": {
          "checksum": "c064698f174abe4509b23c34a7912f44",
          "grade": false,
          "grade_id": "cell-e308141abb8d0e0c",
          "locked": true,
          "schema_version": 1,
          "solution": false
        },
        "id": "_LEkwcSl1je2",
        "colab_type": "text"
      },
      "cell_type": "markdown",
      "source": [
        "## Writing platform agnostic code\n",
        "\n",
        "Most of the time you'd like to write code that is device agnostic; that is it will run on a GPU if one is available, and otherwise it would fall back to the CPU. The recommended way to do this is as follows:"
      ]
    },
    {
      "metadata": {
        "id": "lwrO0zhE1je4",
        "colab_type": "code",
        "outputId": "941b96f6-56d0-4d29-f5df-3979773236cf",
        "colab": {
          "base_uri": "https://localhost:8080/",
          "height": 238
        }
      },
      "cell_type": "code",
      "source": [
        "device = \"cuda:0\" if torch.cuda.is_available() else \"cpu\"\n",
        "t1 = torch.randn(1000, 1000).to(device)\n",
        "t2 = torch.randn(1000, 1000).to(device)\n",
        "t3 = t1*t2\n",
        "print(t3)"
      ],
      "execution_count": 0,
      "outputs": [
        {
          "output_type": "stream",
          "text": [
            "tensor([[-1.5173e+00, -9.4144e-01, -5.7393e-02,  ..., -3.6494e-03,\n",
            "          1.5715e-02, -3.6293e-01],\n",
            "        [-1.0048e-02, -1.8353e+00, -2.8213e+00,  ..., -2.3511e-01,\n",
            "          2.3116e+00,  1.8033e+00],\n",
            "        [-2.6288e-01, -1.6830e+00,  3.2183e-01,  ...,  6.3308e-01,\n",
            "          4.0032e-01,  2.1916e+00],\n",
            "        ...,\n",
            "        [ 6.2640e-01,  1.3166e-02, -1.2638e-03,  ...,  2.3809e-01,\n",
            "         -7.5367e-01, -1.5126e-01],\n",
            "        [ 7.2562e-01,  4.4981e-01,  3.1707e-01,  ..., -3.0734e-01,\n",
            "         -1.1695e-01, -1.4448e+00],\n",
            "        [-1.9400e-01,  6.1879e-02, -2.4267e-01,  ..., -5.5031e-01,\n",
            "         -8.7382e-01,  2.2382e-01]], device='cuda:0')\n"
          ],
          "name": "stdout"
        }
      ]
    },
    {
      "metadata": {
        "deletable": false,
        "editable": false,
        "nbgrader": {
          "checksum": "b31bddc27c2bdeb593ee2498dfbd7e10",
          "grade": false,
          "grade_id": "cell-24f03f8a35648313",
          "locked": true,
          "schema_version": 1,
          "solution": false
        },
        "id": "6r7Ew82A1je8",
        "colab_type": "text"
      },
      "cell_type": "markdown",
      "source": [
        "## Accelerating neural net training\n",
        "\n",
        "If you wanted to accelerate the training of a neural net using raw PyTorch, you would have to copy both the model and the training data to the GPU. Unless you were using a really small dataset like MNIST, you would typically _stream_ the batches of training data to the GPU as you used them in the training loop:\n",
        "\n",
        "```python\n",
        "device = \"cuda:0\" if torch.cuda.is_available() else \"cpu\"\n",
        "model = BaselineModel(784, 784, 10).to(device)\n",
        "\n",
        "loss_function = ...\n",
        "optimiser = ...\n",
        "\n",
        "for epoch in range(10):\n",
        "    for data in trainloader:\n",
        "        inputs, labels = data\n",
        "        inputs, labels = inputs.to(device), labels.to(device)\n",
        "\n",
        "        optimiser.zero_grad()\n",
        "        outputs = model(inputs)\n",
        "        loss = loss_function(outputs, labels)\n",
        "        loss.backward()\n",
        "        optimiser.step()\n",
        "```\n",
        "\n",
        "Using Torchbearer, this becomes much simpler - you just tell the `Trial` to run on the GPU and that's it!:\n",
        "\n",
        "```python\n",
        "model = BetterCNN()\n",
        "\n",
        "loss_function = ...\n",
        "optimiser = ...\n",
        "\n",
        "device = \"cuda:0\" if torch.cuda.is_available() else \"cpu\"\n",
        "trial = Trial(model, optimiser, loss_function, metrics=['loss', 'accuracy']).to(device)\n",
        "trial.with_generators(trainloader)\n",
        "trial.run(epochs=10)\n",
        "```\n"
      ]
    },
    {
      "metadata": {
        "deletable": false,
        "editable": false,
        "nbgrader": {
          "checksum": "064768c85834aa40d82396f9f3cccfac",
          "grade": false,
          "grade_id": "cell-cf0444554770e817",
          "locked": true,
          "schema_version": 1,
          "solution": false
        },
        "id": "YdtKbNrI1je-",
        "colab_type": "text"
      },
      "cell_type": "markdown",
      "source": [
        "## Multiple GPUs\n",
        "\n",
        "Using multiple GPUs is beyond the scope of the lab, but if you have multiple cuda devices, they can be referred to by index: `cuda:0`, `cuda:1`, `cuda:2`, etc. You have to be careful not to mix operations on different devices, and would need how to carefully orchestrate moving of data between the devices (which can really slow down your code to the point at which using the CPU would actually be faster)."
      ]
    },
    {
      "metadata": {
        "deletable": false,
        "editable": false,
        "nbgrader": {
          "checksum": "d698b1536be57d852780abaf08fcad68",
          "grade": false,
          "grade_id": "cell-f0f058c0af885275",
          "locked": true,
          "schema_version": 1,
          "solution": false
        },
        "id": "rHFoZs-f1jfA",
        "colab_type": "text"
      },
      "cell_type": "markdown",
      "source": [
        "## Questions\n",
        "\n",
        "__Answer the following questions (enter the answer in the box below each one):__\n",
        "\n",
        "__1.__ What features of GPUs allow them to perform computations faster than a typically CPU?"
      ]
    },
    {
      "metadata": {
        "deletable": false,
        "nbgrader": {
          "checksum": "b1dc585b11c0e499f09e409017b6cb06",
          "grade": true,
          "grade_id": "cell-76fcc457388a8223",
          "locked": false,
          "points": 1,
          "schema_version": 1,
          "solution": true
        },
        "id": "W7EbZsNT1jfC",
        "colab_type": "text"
      },
      "cell_type": "markdown",
      "source": [
        "The amount of cores avaiable in the GPU that can be used for computation compared to the CPU. A state of the art CPU avaiable in PCs atm has about 16 cores, whereas GPU has about 3000-4000 cores. The amount of parallelisation that is achievable with the GPU is much higher than with CPU."
      ]
    },
    {
      "metadata": {
        "deletable": false,
        "editable": false,
        "nbgrader": {
          "checksum": "374801c6d757e48f93fe93618435c685",
          "grade": false,
          "grade_id": "cell-68f765cc2155e517",
          "locked": true,
          "schema_version": 1,
          "solution": false
        },
        "id": "-sxExi_s1jfE",
        "colab_type": "text"
      },
      "cell_type": "markdown",
      "source": [
        "__2.__ What is the biggest limiting factor for training large models with current generation GPUs?"
      ]
    },
    {
      "metadata": {
        "deletable": false,
        "nbgrader": {
          "checksum": "964d60951aa496908969f2ca35be3104",
          "grade": true,
          "grade_id": "cell-a147457afc2c4c40",
          "locked": false,
          "points": 1,
          "schema_version": 1,
          "solution": true
        },
        "id": "1piaFcQm1jfF",
        "colab_type": "text"
      },
      "cell_type": "markdown",
      "source": [
        "It might have something to do with the data acess, due to being unable to hold everything in the highest level caches, and requiring regular reads to other caches, potentially requiring more than one can simultaneously fit on the data bus.\n",
        "\n",
        "Something else could be that it might not be able to fit the entire model in VRAM, which could result in really high performance hits."
      ]
    }
  ]
}