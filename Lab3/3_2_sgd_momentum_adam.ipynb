{
  "nbformat": 4,
  "nbformat_minor": 0,
  "metadata": {
    "colab": {
      "name": "Copy of 3_2_sgd_momentum_adam.ipynb",
      "version": "0.3.2",
      "provenance": [],
      "collapsed_sections": []
    },
    "kernelspec": {
      "display_name": "Python 3",
      "language": "python",
      "name": "python3"
    }
  },
  "cells": [
    {
      "metadata": {
        "deletable": false,
        "editable": false,
        "nbgrader": {
          "checksum": "76f331e42b18f90c2798827fd09f7916",
          "grade": false,
          "grade_id": "cell-64f625d2f2a95421",
          "locked": true,
          "schema_version": 1,
          "solution": false
        },
        "id": "QZIfnkXNV_bh",
        "colab_type": "text"
      },
      "cell_type": "markdown",
      "source": [
        "# Part 2: Stochastic Gradient Descent, Momentum, and Adam"
      ]
    },
    {
      "metadata": {
        "deletable": false,
        "editable": false,
        "nbgrader": {
          "checksum": "7f0ff2c2c93f9726d6df73febe04ee97",
          "grade": false,
          "grade_id": "cell-4298e9d3fced7f34",
          "locked": true,
          "schema_version": 1,
          "solution": false
        },
        "id": "xtSCMln_V_bl",
        "colab_type": "text"
      },
      "cell_type": "markdown",
      "source": [
        "### For this part of the lab, using the same data and setup as in Part 1, compare how stochastic gradient descent (SGD), SGD with momentum, and ADAM will perform. You are free to write all of the code on your own, or if you prefer, you can fill in the missing sections in the code below."
      ]
    },
    {
      "metadata": {
        "deletable": false,
        "editable": false,
        "nbgrader": {
          "checksum": "d1c4e30f2dcd1eaf1c6aa91f689bf6d7",
          "grade": false,
          "grade_id": "cell-d5a58ae230138c8a",
          "locked": true,
          "schema_version": 1,
          "solution": false
        },
        "id": "nepj8LTMV_bn",
        "colab_type": "text"
      },
      "cell_type": "markdown",
      "source": [
        "### Start by reusing some of the functions you have coded for Part 1 to compute the hypothesis, the gradient of the cost function, and the cost function. This code will then be used by the next section of the workbook."
      ]
    },
    {
      "metadata": {
        "deletable": false,
        "nbgrader": {
          "checksum": "14db73c902e1aba6fd752b6e28234498",
          "grade": true,
          "grade_id": "cell-f09153a723d1bb21",
          "locked": false,
          "points": 0,
          "schema_version": 1,
          "solution": true
        },
        "id": "b1V2KbFVV_bo",
        "colab_type": "code",
        "colab": {}
      },
      "cell_type": "code",
      "source": [
        "import torch\n",
        "import numpy as np\n",
        "import matplotlib.pyplot as plt\n",
        "\n",
        "## generate M data points roughly forming a line (noise added)\n",
        "M = 50\n",
        "theta_true = torch.Tensor([[0.5], [2]])\n",
        "\n",
        "X = 10 * torch.rand(M, 2) - 5\n",
        "X[:, 1] = 1.0\n",
        "\n",
        "y = torch.mm(X, theta_true) + 0.3 * torch.randn(M, 1)\n",
        "\n",
        "## hypothesis computes $h_theta$\n",
        "def hypothesis(theta, X):\n",
        "  return X@theta\n",
        "\n",
        "## grad_cost_func computes the gradient of J for linear regression given J is the MSE \n",
        "def grad_cost_func(theta, X, y): \n",
        "  h = hypothesis(theta, X)\n",
        "  \n",
        "  size = X.size(0)\n",
        "  \n",
        "  grad = torch.zeros_like(X[0])\n",
        "  for i, value in enumerate(X):\n",
        "    grad += (value@theta - y[i]) * value\n",
        "    \n",
        "  return grad.unsqueeze(1) / size\n",
        "    \n",
        "## cost_func computes\n",
        "def cost_func(theta, X, y):\n",
        "  cost_function = 0\n",
        "  size = X.size()[0]\n",
        "  h = hypothesis(theta, X)\n",
        "  \n",
        "  for i, value in enumerate(h):\n",
        "    cost_function += (value - y[i]) ** 2\n",
        "  return cost_function * 1/(2*size)"
      ],
      "execution_count": 0,
      "outputs": []
    },
    {
      "metadata": {
        "deletable": false,
        "editable": false,
        "nbgrader": {
          "checksum": "34e932803ed631e6d14a1f09103b98c2",
          "grade": false,
          "grade_id": "cell-4f05371072d188fa",
          "locked": true,
          "schema_version": 1,
          "solution": false
        },
        "id": "rXwtT9eqV_bu",
        "colab_type": "text"
      },
      "cell_type": "markdown",
      "source": [
        "## Now we'd like to compare how stochastic gradient descent (SGD), SGD with momentum, and ADAM will run over weight updates. Complete the defined functions below and make sure to add the parameters which may need to be passed into the functions as well. Plot the weight updates over the contour plot using varying colours. Note, for clarity, you may only want to plot some of the updates."
      ]
    },
    {
      "metadata": {
        "deletable": false,
        "nbgrader": {
          "checksum": "dc258f32732e143ee8c8ad9b25b34096",
          "grade": true,
          "grade_id": "cell-5189819c97d93617",
          "locked": false,
          "points": 10,
          "schema_version": 1,
          "solution": true
        },
        "id": "fprJpM42V_bv",
        "colab_type": "code",
        "colab": {
          "base_uri": "https://localhost:8080/",
          "height": 368
        },
        "outputId": "7d413ac7-157b-4a52-bc3e-c68a2740e3c0"
      },
      "cell_type": "code",
      "source": [
        "## The weight update computed using the ADAM optimisation algorithm\n",
        "def weightupdate_adam(count, X, y, learning_rate, b1, b2, theta):\n",
        "    V_dw = 0\n",
        "    S_dw = 0\n",
        "    for i in range(1, count+1):\n",
        "      grad = grad_cost_func(theta, X, y)\n",
        "      \n",
        "      V_dw = b1 * V_dw + (1 - b1) * grad\n",
        "      V_dw_corr = V_dw / (1 - b1**i)\n",
        "      \n",
        "      S_dw = b2 * S_dw + (1 - b2) * (grad**2)\n",
        "      S_dw_corr = S_dw / (1 - b2**i)\n",
        "      \n",
        "      theta = theta - learning_rate * V_dw_corr / torch.sqrt(S_dw_corr + 0.00001)\n",
        "    \n",
        "    return theta\n",
        "    \n",
        "\n",
        "## The weight update computed using SGD + momentum\n",
        "def weightupdate_sgd_momentum(count, X, y, learning_rate, b, theta):\n",
        "    last_v = 0\n",
        "    \n",
        "    for i in range(count):\n",
        "      last_v = (b * last_v + (1-b) * grad_cost_func(theta, X, y))\n",
        "      theta = theta - learning_rate * last_v  / (1-b**(i+1))\n",
        "      \n",
        "    return theta\n",
        "\n",
        "## The weight updated computed using SGD\n",
        "def weigthupdate_sgd(count, X, y, learning_rate, theta):\n",
        "    for i in range(count):\n",
        "      theta = theta - learning_rate * grad_cost_func(theta, X, y)\n",
        "    \n",
        "    return theta\n",
        "\n",
        "  \n",
        "N = 200\n",
        "beta_1 = 0.9\n",
        "beta_2 = 0.999\n",
        "alpha = 0.01\n",
        "\n",
        "theta_0 = torch.Tensor([[2],[4]]) #initialise\n",
        "\n",
        "# Write the code that will call of the optimisation update functions and compute weight updates for each individual data point over N iterations.\n",
        "\n",
        "theta1 = weigthupdate_sgd(N, X, y, alpha, theta_0)\n",
        "theta2 = weightupdate_sgd_momentum(N, X, y, alpha, beta_1, theta_0)\n",
        "theta3 = weightupdate_adam(N, X, y, alpha, beta_1, beta_2, theta_0)\n",
        "\n",
        "theta_0_vals = np.linspace(-2,4,100)\n",
        "theta_1_vals = np.linspace(0,4,100)\n",
        "theta = torch.Tensor(len(theta_0_vals),2)\n",
        "\n",
        "# Compute the value of the cost function, J, over all the thetas in order to plot the contour below.\n",
        "J = np.zeros((100, 100))\n",
        "\n",
        "# Compute the cost function over every combination of values for theta in a variable called J which will then be plot below\n",
        "for i, t1 in enumerate(theta_0_vals):\n",
        "  for j, t2 in enumerate(theta_1_vals):\n",
        "    theta = np.array([t1, t2])\n",
        "    theta = torch.from_numpy(theta).float()\n",
        "    J[i][j] = cost_func(theta, X, y)[0].numpy()\n",
        "\n",
        "xc,yc = np.meshgrid(theta_0_vals, theta_1_vals)\n",
        "contours = plt.contour(xc, yc, J, 20)\n",
        "\n",
        "# Now plot the output of SGD, momentum and Adam all on the same plot for comparison\n",
        "plt.scatter(theta_true[0], theta_true[1], color='k', label='Theta_true')\n",
        "plt.scatter(theta1[0], theta1[1], color='b', label='SGD')\n",
        "plt.scatter(theta2[0], theta2[1], color='orange', label='Momentum')\n",
        "plt.scatter(theta3[0], theta3[1], color='r', label='Adam')\n",
        "plt.legend(loc = 'best')"
      ],
      "execution_count": 25,
      "outputs": [
        {
          "output_type": "execute_result",
          "data": {
            "text/plain": [
              "<matplotlib.legend.Legend at 0x7f253c5a4fd0>"
            ]
          },
          "metadata": {
            "tags": []
          },
          "execution_count": 25
        },
        {
          "output_type": "display_data",
          "data": {
            "image/png": "[encoded data removed]",
            "text/plain": [
              "<Figure size 576x396 with 1 Axes>"
            ]
          },
          "metadata": {
            "tags": []
          }
        }
      ]
    },
    {
      "metadata": {
        "id": "Qsj6oa-wV_bz",
        "colab_type": "code",
        "colab": {}
      },
      "cell_type": "code",
      "source": [
        ""
      ],
      "execution_count": 0,
      "outputs": []
    }
  ]
}